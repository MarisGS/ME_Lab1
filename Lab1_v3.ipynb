{
 "cells": [
  {
   "cell_type": "markdown",
   "metadata": {},
   "source": [
    "<h1> Plakansiksnas pārvada aprēķins <h1>"
   ]
  },
  {
   "cell_type": "markdown",
   "metadata": {},
   "source": [
    "Uzdevums: Aprēķināt tāda pārvada parametrus, kas savieno horizontāli un paralēli novietotas vārpstas."
   ]
  },
  {
   "cell_type": "markdown",
   "metadata": {},
   "source": [
    "Pārvada izveidojuma shēma parādīta 1. attēlā.\n",
    "![Belt_drive.JPG](att_1.png)\n",
    "<div align=\"center\">  1. att. Plakansiksnas pārvada shēma  <br>\n",
    "<div align=\"left\">\n"
   ]
  },
  {
   "cell_type": "markdown",
   "metadata": {},
   "source": [
    "Veicot aprēķinu, jānoskaidro:\n",
    "- siksnas parametri (veids, platums, biezums);\n",
    "- nepieciešamie siksnas spriegošanas parametri;\n",
    "- pārvada radītā slodze uz vārpstām.\n",
    "\n",
    "<br>\n",
    "\n",
    "Aprēķina izejas dati ir:\n",
    "- skriemeļu asu attālums;\n",
    "- pārvadāmā jauda;\n",
    "- jaudas avota un piedzenamā skriemeļa rotācijas ātrums.\n",
    "\n"
   ]
  },
  {
   "cell_type": "markdown",
   "metadata": {},
   "source": [
    "Pārvadu projektējot, izvēlamais vispārēja pielietojuma plakansiksu Habasit A3. Tās galvenie parametri parādīti ražotāja bukletā: <br>\n",
    "![A3.JPG](att_2.jpg) <br>\n",
    "Siksnas darba virsmas berzes koeficienta vērtība ir:\n",
    "\n",
    " $\\mu$ = 0.495. <br>\n",
    " Aprēķinu var sākt, ievadot pārvada robežparametrus:\n",
    " \n",
    " - motora rotācijas ātrums, $n_m$ [apgr./min];\n",
    " - motora jauda, P [kW];\n",
    " - dzītā skriemeļa rotācijas ātrums, $n_s$ [apgr./min];\n",
    " - asu attālums [m];\n",
    " - darba režīma faktors Ks = 1.15.\n",
    "\n",
    " \n"
   ]
  },
  {
   "cell_type": "code",
   "execution_count": 23,
   "metadata": {},
   "outputs": [],
   "source": [
    "n_m=1000 #motora apgriezieni\n",
    "\n",
    "P=2 # motora jauda, kW\n",
    "\n",
    "n_s=500 # dzenošā skriemeļa apgriezieni\n",
    "C=2 # asu attālums, m\n",
    "\n",
    "Ks=1.15 # darba režīma koeficients\n",
    "F_un=36*1000 # siksnas nominālais aploces spēks pret siksnas platumu, N/m\n",
    "t= 3.4/1000 # siksnas biezums, m\n",
    "m_i=3.5 # siksnas īpatnējā masa, kg/m2\n",
    "K_1= 12*1000 # stiepes spēks 1% pagarinājumam, N/m\n",
    "mu=0.495 # berzes koeficients"
   ]
  },
  {
   "cell_type": "markdown",
   "metadata": {},
   "source": [
    "dzenošā skriemeļa leņķiskais ātrums [rad/s]: $$\\omega_d=\\frac{2\\pi\\cdot n_m}{60}$$\n"
   ]
  },
  {
   "cell_type": "code",
   "execution_count": 24,
   "metadata": {},
   "outputs": [
    {
     "name": "stdout",
     "output_type": "stream",
     "text": [
      "105.0\n"
     ]
    }
   ],
   "source": [
    "import numpy as np\n",
    "\n",
    "omega_d=(2*np.pi*n_m)/60\n",
    "print (np.round(omega_d))"
   ]
  },
  {
   "cell_type": "markdown",
   "metadata": {},
   "source": [
    "dzenošā skriemeļa griezes moments [Nm]: $$ T_d=\\frac{P\\cdot 1000}{\\omega_d} $$\n"
   ]
  },
  {
   "cell_type": "code",
   "execution_count": 25,
   "metadata": {},
   "outputs": [],
   "source": [
    "T_d=(P)/omega_d"
   ]
  },
  {
   "cell_type": "markdown",
   "metadata": {},
   "source": [
    "optimālais dzenošā skriemeļa diametrs [m]: $$d=\\frac{60 \\cdot \\sqrt[3]{T_d} }{1000}$$"
   ]
  },
  {
   "cell_type": "code",
   "execution_count": 26,
   "metadata": {},
   "outputs": [
    {
     "name": "stdout",
     "output_type": "stream",
     "text": [
      "0.16038055410863708\n"
     ]
    }
   ],
   "source": [
    "d=(60*(T_d**(1/3)))/1000\n",
    "print ((d))"
   ]
  },
  {
   "cell_type": "markdown",
   "metadata": {},
   "source": [
    "Pārvada pārnesuma skaitlis:\n",
    "    $$i=\\frac{n_m}{n_s}$$ <br>\n",
    "    Dzītā skriemeļa diametrs:\n",
    "    $$ D=d\\cdot i$$\n",
    "  "
   ]
  },
  {
   "cell_type": "code",
   "execution_count": null,
   "metadata": {},
   "outputs": [],
   "source": []
  },
  {
   "cell_type": "markdown",
   "metadata": {},
   "source": [
    "Nosaka siksnas aptveres leņķi (grādos) uz mazā skriemeļa:\n",
    "\n",
    "$$ \\beta_d=180-\\frac {D-d}{C} \\cdot 60$$\n",
    "kur C  - asu attālums, m. <br>\n",
    "\n",
    "![beta.JPG](att_3.jpg)\n"
   ]
  },
  {
   "cell_type": "code",
   "execution_count": null,
   "metadata": {},
   "outputs": [],
   "source": []
  },
  {
   "cell_type": "markdown",
   "metadata": {},
   "source": [
    "Pārveido rezultātu no grādiem uz radiāniem:\n",
    "$$ \\beta_{drad}=\\beta_d \\cdot \\frac {\\pi}{180}$$"
   ]
  },
  {
   "cell_type": "code",
   "execution_count": null,
   "metadata": {},
   "outputs": [],
   "source": []
  },
  {
   "cell_type": "markdown",
   "metadata": {},
   "source": [
    "Nosaka siksnas pārvada aprēķinu jaudu: \n",
    "    $$P_a=P \\cdot K_s$$"
   ]
  },
  {
   "cell_type": "code",
   "execution_count": null,
   "metadata": {},
   "outputs": [],
   "source": []
  },
  {
   "cell_type": "markdown",
   "metadata": {},
   "source": [
    "Nosaka siksnas pārvada aprēķinu griezes momentu:\n",
    "    $$T_a=\\frac {P_a} { \\omega_d}$$"
   ]
  },
  {
   "cell_type": "code",
   "execution_count": null,
   "metadata": {},
   "outputs": [],
   "source": []
  },
  {
   "cell_type": "markdown",
   "metadata": {},
   "source": [
    "Nosaka nepieciešamo aploces spēku, lai pārvadītu aprēķinu griezes momentu:\n",
    "$$ F_u= \\frac {2 \\cdot T_a}{d}$$"
   ]
  },
  {
   "cell_type": "code",
   "execution_count": null,
   "metadata": {},
   "outputs": [],
   "source": []
  },
  {
   "cell_type": "markdown",
   "metadata": {},
   "source": [
    "Nepieciešamais siksnas platums [m]:\n",
    "$$ b= \\frac {F_u}{F_{un}}$$"
   ]
  },
  {
   "cell_type": "code",
   "execution_count": null,
   "metadata": {},
   "outputs": [],
   "source": []
  },
  {
   "cell_type": "markdown",
   "metadata": {},
   "source": [
    "Nosaka siksnas garuma vienības masu:\n",
    "$$\\gamma=m_i \\cdot b$$"
   ]
  },
  {
   "cell_type": "code",
   "execution_count": null,
   "metadata": {},
   "outputs": [],
   "source": []
  },
  {
   "cell_type": "markdown",
   "metadata": {},
   "source": [
    "Nosaka siksnas lineāro ātrumu:\n",
    "\n",
    "$$ v=  \\frac {\\omega_d \\cdot d}{2}$$"
   ]
  },
  {
   "cell_type": "code",
   "execution_count": null,
   "metadata": {},
   "outputs": [],
   "source": []
  },
  {
   "cell_type": "markdown",
   "metadata": {},
   "source": [
    "Nosaka gredzenspriegojumu inerces ietkemē: \n",
    "   $$ F_c=\\gamma*v^2$$ <br>\n",
    "   \n",
    "   ![Fc.JPG](att_4.jpg)\n",
    "   "
   ]
  },
  {
   "cell_type": "code",
   "execution_count": null,
   "metadata": {},
   "outputs": [],
   "source": []
  },
  {
   "cell_type": "markdown",
   "metadata": {},
   "source": [
    "Nosaka neizslīdēšanas parametra vērtību:\n",
    "\n",
    "$$ E_f=e^{\\mu \\cdot \\beta_{drad}}$$"
   ]
  },
  {
   "cell_type": "code",
   "execution_count": null,
   "metadata": {},
   "outputs": [],
   "source": []
  },
  {
   "cell_type": "markdown",
   "metadata": {},
   "source": [
    "Nosaka nepieciešamo sākotnējo spriegojumu:\n",
    "\n",
    "$$ F_i=\\frac {F_u}{2} \\cdot \\frac {E_f+1} {E_f-1}$$"
   ]
  },
  {
   "cell_type": "code",
   "execution_count": null,
   "metadata": {},
   "outputs": [],
   "source": []
  },
  {
   "cell_type": "markdown",
   "metadata": {},
   "source": [
    "Slogotā zara spriegojuma spēks:\n",
    "\n",
    "$$ F_1=F_i+F_c+\\frac {F_u} {2} $$\n",
    "\n",
    "\n",
    "![F1.JPG](att_5.jpg)\n",
    "\n",
    "\n",
    "Brīvā zara spriegojuma spēks:\n",
    "\n",
    "$$ F_2=F_1-F_u $$\n"
   ]
  },
  {
   "cell_type": "code",
   "execution_count": null,
   "metadata": {},
   "outputs": [],
   "source": []
  },
  {
   "cell_type": "markdown",
   "metadata": {},
   "source": [
    "Slodze uz vārpstu: \n",
    "    \n",
    "$$ F_{w}=F_1+F_2 \\cdot sin {\\frac{\\beta_{drad}}{2}}+2 \\cdot F_c$$"
   ]
  },
  {
   "cell_type": "code",
   "execution_count": null,
   "metadata": {},
   "outputs": [],
   "source": []
  },
  {
   "cell_type": "markdown",
   "metadata": {},
   "source": [
    "Nosaka nepieciešamo efektīvo siksnas garumu:\n",
    "\n",
    "$$ L_{eff}=2 \\cdot C \\cdot sin {\\frac{\\beta_d}{2}} +\\frac {\\pi}{2} \\cdot \\left(  d+D+4 \\cdot \\frac {t}{2} + \\frac {(D-d) \\cdot (180-\\beta_d)}{180} \\right)$$\n",
    "\n",
    "\n",
    "![Leff.JPG](att_6.jpg)\n",
    "\n",
    "\n",
    "    "
   ]
  },
  {
   "cell_type": "code",
   "execution_count": null,
   "metadata": {},
   "outputs": [],
   "source": []
  },
  {
   "cell_type": "markdown",
   "metadata": {},
   "source": [
    "Nosaka nepieciešamo relatīvo sākotnējo pagarinājumu:\n",
    "\n",
    "$$ \\epsilon_0=\\frac {F_i+F_c} {b \\cdot K_1} $$\n",
    "\n",
    "Nosaka nepieciešamo sākotnējo pagarinājumu:\n",
    "\n",
    "$$ X_\\epsilon=\\frac {L_{eff} \\cdot \\epsilon_0} {2 \\cdot 100} $$\n",
    "\n",
    "\n",
    "![xe.JPG](att_7.jpg)"
   ]
  },
  {
   "cell_type": "code",
   "execution_count": null,
   "metadata": {},
   "outputs": [],
   "source": []
  },
  {
   "cell_type": "code",
   "execution_count": null,
   "metadata": {},
   "outputs": [],
   "source": []
  }
 ],
 "metadata": {
  "kernelspec": {
   "display_name": "Python 3 (ipykernel)",
   "language": "python",
   "name": "python3"
  },
  "language_info": {
   "codemirror_mode": {
    "name": "ipython",
    "version": 3
   },
   "file_extension": ".py",
   "mimetype": "text/x-python",
   "name": "python",
   "nbconvert_exporter": "python",
   "pygments_lexer": "ipython3",
   "version": "3.8.16"
  }
 },
 "nbformat": 4,
 "nbformat_minor": 4
}
